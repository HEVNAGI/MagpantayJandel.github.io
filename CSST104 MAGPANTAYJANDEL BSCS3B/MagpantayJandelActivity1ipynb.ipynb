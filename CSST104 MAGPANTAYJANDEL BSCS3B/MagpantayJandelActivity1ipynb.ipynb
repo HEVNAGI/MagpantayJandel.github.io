{
  "nbformat": 4,
  "nbformat_minor": 0,
  "metadata": {
    "colab": {
      "provenance": []
    },
    "kernelspec": {
      "name": "python3",
      "display_name": "Python 3"
    },
    "language_info": {
      "name": "python"
    }
  },
  "cells": [
    {
      "cell_type": "markdown",
      "source": [
        "***MAGPANTAY, NINO JANDEL C.***\n",
        "\n",
        "***BSCS-3B***\n",
        "\n",
        "***MR. BERNARDINO***\n",
        "\n"
      ],
      "metadata": {
        "id": "7mbIGcvw2iAP"
      }
    },
    {
      "cell_type": "markdown",
      "source": [
        "***DATA LOADING***"
      ],
      "metadata": {
        "id": "LKPFp5M7F4Z-"
      }
    },
    {
      "cell_type": "code",
      "execution_count": null,
      "metadata": {
        "id": "1MTIcGV82gY8"
      },
      "outputs": [],
      "source": [
        "import pandas as pd\n",
        "import matplotlib.pyplot as plt\n",
        "\n",
        "df = pd.read_csv('hardwareStore.csv')\n",
        "\n",
        "print(df.head(10))\n",
        "\n",
        "print(df.isnull().sum())"
      ]
    },
    {
      "cell_type": "markdown",
      "source": [
        "***Data Initial Analysis***"
      ],
      "metadata": {
        "id": "rNKbHGGzHj8O"
      }
    },
    {
      "cell_type": "code",
      "source": [
        "# Display basic statistics\n",
        "statistics = df.describe()\n",
        "print(statistics)\n",
        "\n",
        "category_counts = df['CATEGORY_NAME'].value_counts()\n",
        "\n",
        "print(category_counts)\n"
      ],
      "metadata": {
        "id": "D5x8-dsKHECm",
        "colab": {
          "base_uri": "https://localhost:8080/",
          "height": 225
        },
        "outputId": "aed1d502-f58e-444c-ff0c-84247c366c15"
      },
      "execution_count": 1,
      "outputs": [
        {
          "output_type": "error",
          "ename": "NameError",
          "evalue": "name 'df' is not defined",
          "traceback": [
            "\u001b[0;31m---------------------------------------------------------------------------\u001b[0m",
            "\u001b[0;31mNameError\u001b[0m                                 Traceback (most recent call last)",
            "\u001b[0;32m<ipython-input-1-832f217f125e>\u001b[0m in \u001b[0;36m<cell line: 2>\u001b[0;34m()\u001b[0m\n\u001b[1;32m      1\u001b[0m \u001b[0;31m# Display basic statistics\u001b[0m\u001b[0;34m\u001b[0m\u001b[0;34m\u001b[0m\u001b[0m\n\u001b[0;32m----> 2\u001b[0;31m \u001b[0mstatistics\u001b[0m \u001b[0;34m=\u001b[0m \u001b[0mdf\u001b[0m\u001b[0;34m.\u001b[0m\u001b[0mdescribe\u001b[0m\u001b[0;34m(\u001b[0m\u001b[0;34m)\u001b[0m\u001b[0;34m\u001b[0m\u001b[0;34m\u001b[0m\u001b[0m\n\u001b[0m\u001b[1;32m      3\u001b[0m \u001b[0mprint\u001b[0m\u001b[0;34m(\u001b[0m\u001b[0mstatistics\u001b[0m\u001b[0;34m)\u001b[0m\u001b[0;34m\u001b[0m\u001b[0;34m\u001b[0m\u001b[0m\n\u001b[1;32m      4\u001b[0m \u001b[0;34m\u001b[0m\u001b[0m\n\u001b[1;32m      5\u001b[0m \u001b[0mcategory_counts\u001b[0m \u001b[0;34m=\u001b[0m \u001b[0mdf\u001b[0m\u001b[0;34m[\u001b[0m\u001b[0;34m'CATEGORY_NAME'\u001b[0m\u001b[0;34m]\u001b[0m\u001b[0;34m.\u001b[0m\u001b[0mvalue_counts\u001b[0m\u001b[0;34m(\u001b[0m\u001b[0;34m)\u001b[0m\u001b[0;34m\u001b[0m\u001b[0;34m\u001b[0m\u001b[0m\n",
            "\u001b[0;31mNameError\u001b[0m: name 'df' is not defined"
          ]
        }
      ]
    },
    {
      "cell_type": "markdown",
      "source": [
        "***CATEGORY ANALYSIS***"
      ],
      "metadata": {
        "id": "xzeTGxwXQdSF"
      }
    },
    {
      "cell_type": "code",
      "source": [
        "import matplotlib.pyplot as plt\n",
        "\n",
        "plt.figure(figsize=(10, 6))\n",
        "category_counts.plot(kind='bar', color='skyblue')\n",
        "plt.title('Distribution of Products Across Categories')\n",
        "plt.xlabel('Category')\n",
        "plt.ylabel('Number of Products')\n",
        "plt.xticks(rotation=45, ha='right')\n",
        "plt.tight_layout()\n",
        "plt.show()\n",
        "\n",
        "max_category = category_counts.idxmax()\n",
        "print(\"Category with the highest number of products:\", max_category)"
      ],
      "metadata": {
        "id": "UN7_m3FuOnkN"
      },
      "execution_count": null,
      "outputs": []
    },
    {
      "cell_type": "markdown",
      "source": [
        "***Cost and Price Analysis:***\n"
      ],
      "metadata": {
        "id": "9GWJiCBB0tcO"
      }
    },
    {
      "cell_type": "code",
      "source": [
        "average_standard_cost = df['STANDARD_COST'].mean()\n",
        "average_list_price = df['LIST_PRICE'].mean()\n",
        "\n",
        "print(\"Average Standard Cost:\", average_standard_cost)\n",
        "print(\"Average List Price:\", average_list_price)\n",
        "\n",
        "max_standard_cost_index = df['STANDARD_COST'].idxmax()\n",
        "product_with_highest_standard_cost = df.loc[max_standard_cost_index]\n",
        "\n",
        "max_list_price_index = df['LIST_PRICE'].idxmax()\n",
        "product_with_highest_list_price = df.loc[max_list_price_index]\n",
        "\n",
        "print(\"Product with the highest standard cost:\")\n",
        "print(product_with_highest_standard_cost[['PRODUCT_NAME', 'STANDARD_COST']])\n",
        "\n",
        "print(\"\\nProduct with the highest list price:\")\n",
        "print(product_with_highest_list_price[['PRODUCT_NAME', 'LIST_PRICE']])"
      ],
      "metadata": {
        "colab": {
          "base_uri": "https://localhost:8080/"
        },
        "id": "uS9QYViG0zpZ",
        "outputId": "8a58e53c-0751-4f28-8c0a-206be0dddc87"
      },
      "execution_count": null,
      "outputs": [
        {
          "output_type": "stream",
          "name": "stdout",
          "text": [
            "Average Standard Cost: 765.520404676259\n",
            "Average List Price: 950.9933273381293\n",
            "Product with the highest standard cost:\n",
            "PRODUCT_NAME     Intel SSDPECME040T401\n",
            "STANDARD_COST                  7123.66\n",
            "Name: 982, dtype: object\n",
            "\n",
            "Product with the highest list price:\n",
            "PRODUCT_NAME    Intel SSDPECME040T401\n",
            "LIST_PRICE                    8867.99\n",
            "Name: 982, dtype: object\n"
          ]
        }
      ]
    },
    {
      "cell_type": "markdown",
      "source": [
        "***Location Analysis:***"
      ],
      "metadata": {
        "id": "fQJKPo-F1eO8"
      }
    },
    {
      "cell_type": "code",
      "source": [
        "location_stock = df.groupby(['CITY', 'STATE'])['QUANTITY'].sum()\n",
        "\n",
        "location_highest_quantity = location_stock.idxmax()\n",
        "highest_quantity = location_stock.max()\n",
        "\n",
        "print(\"Location with the highest quantity of products in stock:\")\n",
        "print(\"Location:\", location_highest_quantity)\n",
        "print(\"Total Quantity:\", highest_quantity)"
      ],
      "metadata": {
        "colab": {
          "base_uri": "https://localhost:8080/"
        },
        "id": "NX68WSjh1iFz",
        "outputId": "7c7ce944-27d6-4e06-d225-c22feb28f9de"
      },
      "execution_count": null,
      "outputs": [
        {
          "output_type": "stream",
          "name": "stdout",
          "text": [
            "Location with the highest quantity of products in stock:\n",
            "Location: ('South San Francisco', 'California')\n",
            "Total Quantity: 28613\n"
          ]
        }
      ]
    },
    {
      "cell_type": "markdown",
      "source": [
        "***Insights and Reporting:***"
      ],
      "metadata": {
        "id": "yTCjbmV318fX"
      }
    },
    {
      "cell_type": "code",
      "source": [
        "report = \"\"\"\n",
        "Analysis Report\n",
        "\n",
        "1. Data Loading and Initial Analysis:\n",
        "    Basic statistics of the Dataset:\n",
        "    {}\n",
        "\n",
        "2. Data Manipulation:\n",
        "    Total Revenue for each product:\n",
        "    {}\n",
        "    Product with the highest revenue: {}\n",
        "    Average quantity sold per day: {:.2f}\n",
        "\n",
        "3. Data Visualization:\n",
        "    Bar char displaying revenue for each product is attached\n",
        "\n",
        "4. Insights:\n",
        "    The product {} generates the highest revenue\n",
        "    On average, {:.2f} units are sold per day.\n",
        "\n",
        "5. Location Analysis:\n",
        "    Location with the highest quantity of products in stock:\n",
        "    Location: {}\n",
        "    Total Quantity: {}\n",
        "\"\"\".format(statistics, product_revenue, highest_revenue_product, average_quantity_per_day, highest_revenue_product, average_quantity_per_day, location_highest_quantity, highest_quantity)\n",
        "\n",
        "# Print the report\n",
        "print(report)\n",
        "\n",
        "with open('report.txt','w') as f:\n",
        "  f.write(report)"
      ],
      "metadata": {
        "colab": {
          "base_uri": "https://localhost:8080/"
        },
        "id": "q6Ik98bR2BSr",
        "outputId": "419090b9-9b6d-4ff4-e13c-acd0e553427d"
      },
      "execution_count": null,
      "outputs": [
        {
          "output_type": "stream",
          "name": "stdout",
          "text": [
            "\n",
            "Analysis Report\n",
            "\n",
            "1. Data Loading and Initial Analysis:\n",
            "    Basic statistics of the Dataset:\n",
            "           CATEGORY_ID   PRODUCT_ID  STANDARD_COST   LIST_PRICE    REGION_ID  \\\n",
            "count  1112.000000  1112.000000    1112.000000  1112.000000  1112.000000   \n",
            "mean      3.203237   139.579137     765.520405   950.993327     2.469424   \n",
            "std       1.637782    84.840057     794.252142   991.070482     0.499289   \n",
            "min       1.000000     2.000000      12.630000    15.550000     2.000000   \n",
            "25%       2.000000    71.750000     332.380000   435.222500     2.000000   \n",
            "50%       4.000000   133.000000     582.020000   744.980000     2.000000   \n",
            "75%       5.000000   216.000000     799.050000   999.990000     3.000000   \n",
            "max       5.000000   288.000000    7123.660000  8867.990000     3.000000   \n",
            "\n",
            "       LOCATION_ID  WAREHOUSE_ID     QUANTITY  \n",
            "count  1112.000000   1112.000000  1112.000000  \n",
            "mean     10.971223      5.548561   107.474820  \n",
            "std       4.662225      2.416821    68.008413  \n",
            "min       5.000000      1.000000     0.000000  \n",
            "25%       8.000000      4.000000    50.000000  \n",
            "50%      11.000000      6.000000    98.000000  \n",
            "75%      13.000000      8.000000   163.000000  \n",
            "max      23.000000      9.000000   353.000000  \n",
            "\n",
            "2. Data Manipulation:\n",
            "    Total Revenue for each product:\n",
            "    PRODUCT_NAME\n",
            "ADATA ASU800SS-128GT-C      263.25\n",
            "ADATA ASU800SS-512GT-C      683.45\n",
            "AMD 100-5056062           13499.91\n",
            "AMD 100-505989            24299.91\n",
            "AMD 100-506061             8999.91\n",
            "                            ...   \n",
            "Zotac ZT-70203-10P         7385.49\n",
            "Zotac ZT-P10810A-10P       7649.91\n",
            "Zotac ZT-P10810C-10P       6839.91\n",
            "Zotac ZT-P10810D-10P       6839.91\n",
            "Zotac ZT-P10810G-10P       6794.82\n",
            "Name: LIST_PRICE, Length: 173, dtype: float64\n",
            "    Product with the highest revenue: PNY VCQP6000-PB\n",
            "    Average quantity sold per day: 107.47\n",
            "\n",
            "3. Data Visualization:\n",
            "    Bar char displaying revenue for each product is attached\n",
            "\n",
            "4. Insights:\n",
            "    The product PNY VCQP6000-PB generates the highest revenue\n",
            "    On average, 107.47 units are sold per day.\n",
            "\n",
            "5. Location Analysis:\n",
            "    Location with the highest quantity of products in stock:\n",
            "    Location: ('South San Francisco', 'California')\n",
            "    Total Quantity: 28613\n",
            "\n"
          ]
        }
      ]
    }
  ]
}