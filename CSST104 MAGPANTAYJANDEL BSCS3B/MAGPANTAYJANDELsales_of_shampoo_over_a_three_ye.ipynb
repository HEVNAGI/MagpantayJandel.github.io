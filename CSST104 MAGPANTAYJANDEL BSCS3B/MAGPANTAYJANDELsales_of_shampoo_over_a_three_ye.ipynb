{
  "nbformat": 4,
  "nbformat_minor": 0,
  "metadata": {
    "colab": {
      "provenance": []
    },
    "kernelspec": {
      "name": "python3",
      "display_name": "Python 3"
    },
    "language_info": {
      "name": "python"
    }
  },
  "cells": [
    {
      "cell_type": "markdown",
      "source": [
        "***MAGPANTAY, NINO JANDEL C.***\n",
        "\n",
        "***BSCS-3B***\n",
        "\n",
        "***MR. BERNARDINO***"
      ],
      "metadata": {
        "id": "n3l_rTSFEfIX"
      }
    },
    {
      "cell_type": "markdown",
      "source": [
        "# **1. TIME SERIES ANALYSIS**"
      ],
      "metadata": {
        "id": "YDwf1ZaoErWH"
      }
    },
    {
      "cell_type": "code",
      "execution_count": 1,
      "metadata": {
        "id": "gPfWiIaQB0Ea"
      },
      "outputs": [],
      "source": [
        "import pandas as pd\n",
        "import matplotlib.pyplot as plt\n",
        "from pandas.plotting import register_matplotlib_converters\n",
        "register_matplotlib_converters()"
      ]
    },
    {
      "cell_type": "markdown",
      "source": [
        "# ***2. LOAD DATASET***"
      ],
      "metadata": {
        "id": "lN58I2ulLsP3"
      }
    },
    {
      "cell_type": "code",
      "source": [
        "data = pd.read_csv('sales-of-shampoo-over-a-three-ye.csv')"
      ],
      "metadata": {
        "id": "NbfDdRIMLsks"
      },
      "execution_count": 2,
      "outputs": []
    },
    {
      "cell_type": "markdown",
      "source": [
        "# ***3.Convert Month to Datetime***"
      ],
      "metadata": {
        "id": "cLRpY3g8MLMl"
      }
    },
    {
      "cell_type": "code",
      "source": [
        "data['Month'] = pd.date_range(start='2000-01-01',periods=len(data),freq='M')\n",
        "data.set_index('Month',inplace=True)\n",
        "\n",
        "print(data)"
      ],
      "metadata": {
        "id": "DFUw7SUiMy5J"
      },
      "execution_count": null,
      "outputs": []
    },
    {
      "cell_type": "markdown",
      "source": [
        "# ***4.PLOT THE TIME SERIES***"
      ],
      "metadata": {
        "id": "RE6vcVt9N7w6"
      }
    },
    {
      "cell_type": "code",
      "source": [
        "plt.figure(figsize=(10,6))\n",
        "plt.plot(data.index, data['Sales of shampoo over a three year period'], marker='o', linestyle='-')\n",
        "plt.title('Sales of shampoo Over Time')\n",
        "plt.xlabel('Month')\n",
        "plt.ylabel('Sales')\n",
        "plt.xticks(rotation=45)\n",
        "plt.grid(True)\n",
        "plt.show()"
      ],
      "metadata": {
        "id": "3lkYrbppOBKo"
      },
      "execution_count": null,
      "outputs": []
    },
    {
      "cell_type": "markdown",
      "source": [
        "# ***5.DECOMPOSITION***"
      ],
      "metadata": {
        "id": "oPiA6VsSP42U"
      }
    },
    {
      "cell_type": "code",
      "source": [
        "from statsmodels.tsa.seasonal import seasonal_decompose\n",
        "\n",
        "decomposition = seasonal_decompose(data['Sales of shampoo over a three year period'], model='additive')\n",
        "fig=decomposition.plot()\n",
        "plt.show()"
      ],
      "metadata": {
        "id": "pn4Tk4vcQAg5"
      },
      "execution_count": null,
      "outputs": []
    },
    {
      "cell_type": "markdown",
      "source": [
        "# ***6.FORECASTING WITH ARIMA***"
      ],
      "metadata": {
        "id": "lQEHms3QRTER"
      }
    },
    {
      "cell_type": "code",
      "source": [
        "from statsmodels.tsa.stattools import adfuller\n",
        "\n",
        "adf_test = adfuller(data['Sales of shampoo over a three year period'])\n",
        "\n",
        "print ('ADF Statistics: ', adf_test[0])\n",
        "print ('p-value:', adf_test[1])"
      ],
      "metadata": {
        "id": "hEP93S5jRWYF"
      },
      "execution_count": null,
      "outputs": []
    },
    {
      "cell_type": "markdown",
      "source": [
        "# ***7.FIT AN ARIMA MODEL***"
      ],
      "metadata": {
        "id": "QXzZh-8HShgF"
      }
    },
    {
      "cell_type": "code",
      "source": [
        "from statsmodels.tsa.arima.model import ARIMA\n",
        "model = ARIMA(data['Sales of shampoo over a three year period'], order=(1,1,1))\n",
        "\n",
        "results = model.fit()\n",
        "\n",
        "print(results.summary())"
      ],
      "metadata": {
        "id": "EIMndyEVSpjQ"
      },
      "execution_count": null,
      "outputs": []
    },
    {
      "cell_type": "markdown",
      "source": [
        "# ***8.FORECASTING FUTURE VALUES***"
      ],
      "metadata": {
        "id": "2M1IUYnFVwzW"
      }
    },
    {
      "cell_type": "code",
      "source": [
        "forecast = results.forecast(steps=12)\n",
        "\n",
        "plt.figure(figsize=(10,6))\n",
        "plt.plot(data.index,data['Sales of shampoo over a three year period'], label='Historical')\n",
        "plt.plot(forecast.index, forecast, label='Forecast')\n",
        "plt.legend()\n",
        "plt.show()"
      ],
      "metadata": {
        "id": "hADK1I3GV3xg"
      },
      "execution_count": null,
      "outputs": []
    }
  ]
}