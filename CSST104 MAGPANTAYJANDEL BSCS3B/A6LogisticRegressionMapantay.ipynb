{
  "nbformat": 4,
  "nbformat_minor": 0,
  "metadata": {
    "colab": {
      "provenance": []
    },
    "kernelspec": {
      "name": "python3",
      "display_name": "Python 3"
    },
    "language_info": {
      "name": "python"
    }
  },
  "cells": [
    {
      "cell_type": "markdown",
      "source": [
        "MAGPANTAY, NINO JANDEL C.\n",
        "\n",
        "BSCS-3B\n",
        "\n",
        "MR. BERNARDINO\n",
        "\n"
      ],
      "metadata": {
        "id": "lSfebmUx9N8C"
      }
    },
    {
      "cell_type": "markdown",
      "source": [
        "# ***Part 1: Data Loading and Preprocessing***"
      ],
      "metadata": {
        "id": "mgbSqDgJ-TDT"
      }
    },
    {
      "cell_type": "markdown",
      "source": [
        "# ***Load the Dataset:***"
      ],
      "metadata": {
        "id": "I5xSe5ecDY4u"
      }
    },
    {
      "cell_type": "code",
      "execution_count": null,
      "metadata": {
        "id": "bqiQVfHZ9E6E",
        "colab": {
          "base_uri": "https://localhost:8080/"
        },
        "outputId": "f318b868-6e6d-4c3d-999c-92cb9f75d92d"
      },
      "outputs": [
        {
          "output_type": "stream",
          "name": "stdout",
          "text": [
            "   Age  Gender Marital Status Occupation  Monthly Income  \\\n",
            "0   20  Female         Single    Student       No Income   \n",
            "1   24  Female         Single    Student  Below Rs.10000   \n",
            "2   22    Male         Single    Student  Below Rs.10000   \n",
            "3   22  Female         Single    Student       No Income   \n",
            "4   22    Male         Single    Student  Below Rs.10000   \n",
            "\n",
            "  Educational Qualifications  Family size  latitude  longitude  Pin code  \\\n",
            "0              Post Graduate            4   12.9766    77.5993    560001   \n",
            "1                   Graduate            3   12.9770    77.5773    560009   \n",
            "2              Post Graduate            3   12.9551    77.6593    560017   \n",
            "3                   Graduate            6   12.9473    77.5616    560019   \n",
            "4              Post Graduate            4   12.9850    77.5533    560010   \n",
            "\n",
            "  Output   Feedback Unnamed: 12  \n",
            "0    Yes   Positive         Yes  \n",
            "1    Yes   Positive         Yes  \n",
            "2    Yes  Negative          Yes  \n",
            "3    Yes   Positive         Yes  \n",
            "4    Yes   Positive         Yes  \n"
          ]
        }
      ],
      "source": [
        "import pandas as pd\n",
        "# 1. Load the Dataset\n",
        "df = pd.read_csv(\"onlinefoods.csv\")\n",
        "print(df.head())\n"
      ]
    },
    {
      "cell_type": "markdown",
      "source": [
        "# ***Handle Missing Values:***"
      ],
      "metadata": {
        "id": "avltWvdoDjBF"
      }
    },
    {
      "cell_type": "code",
      "source": [
        "# 2. Handle Missing Values\n",
        "# Identify missing values\n",
        "missing_values = df.isnull().sum()\n",
        "print(\"\\nMissing values:\")\n",
        "print(missing_values)"
      ],
      "metadata": {
        "id": "cXIsH9zSDpz_"
      },
      "execution_count": null,
      "outputs": []
    },
    {
      "cell_type": "markdown",
      "source": [
        "# ***Encode Categorical Variables:***"
      ],
      "metadata": {
        "id": "gkmMTUdIFewX"
      }
    },
    {
      "cell_type": "code",
      "source": [
        "from sklearn.preprocessing import OneHotEncoder\n",
        "\n",
        "# Define the categorical columns\n",
        "categorical_cols = ['Gender', 'Marital Status', 'Occupation', 'Monthly Income', 'Feedback']\n",
        "\n",
        "# Perform one-hot encoding for categorical variables\n",
        "encoder = OneHotEncoder(drop='first', sparse=False)\n",
        "encoded_cols = pd.DataFrame(encoder.fit_transform(df[categorical_cols]))\n",
        "encoded_cols.columns = encoder.get_feature_names_out(categorical_cols)\n",
        "\n",
        "# Concatenate encoded columns with original dataframe\n",
        "df_encoded = pd.concat([df.drop(columns=categorical_cols), encoded_cols], axis=1)\n",
        "\n",
        "# Display the encoded dataframe\n",
        "print(df_encoded.head())\n",
        "\n"
      ],
      "metadata": {
        "id": "Xi1dGd8CFnxC"
      },
      "execution_count": null,
      "outputs": []
    },
    {
      "cell_type": "markdown",
      "source": [
        "# ***Feature Selection:***"
      ],
      "metadata": {
        "id": "KHhS4kHIIyv2"
      }
    },
    {
      "cell_type": "code",
      "source": [
        "selected_features = ['Age', 'Educational Qualifications', 'Family size', 'Pin code', 'Output']\n",
        "selected_df = df_encoded[selected_features]\n",
        "print(selected_df.head())"
      ],
      "metadata": {
        "id": "VMQQ6RJmwfyc"
      },
      "execution_count": null,
      "outputs": []
    },
    {
      "cell_type": "markdown",
      "source": [],
      "metadata": {
        "id": "o-DsQ8ZY21kt"
      }
    },
    {
      "cell_type": "markdown",
      "source": [
        "# ***Descriptive Statistics:***"
      ],
      "metadata": {
        "id": "2hmsaPtWiKdG"
      }
    },
    {
      "cell_type": "code",
      "source": [
        "import matplotlib.pyplot as plt\n",
        "import seaborn as sns\n",
        "\n",
        "# 1. Descriptive Statistics\n",
        "print(\"Descriptive Statistics of Numeric Columns:\")\n",
        "print(df.describe())\n"
      ],
      "metadata": {
        "id": "KOwvbggMiKMZ"
      },
      "execution_count": null,
      "outputs": []
    },
    {
      "cell_type": "markdown",
      "source": [
        "# ***Visualizations***"
      ],
      "metadata": {
        "id": "53BdRCJBjAu-"
      }
    },
    {
      "cell_type": "code",
      "source": [
        "# 2. Visualizations\n",
        "\n",
        "# Distribution of Age and its impact on Feedback\n",
        "plt.figure(figsize=(10, 6))\n",
        "sns.histplot(data=df, x='Age', hue='Feedback', kde=True, bins=30)\n",
        "plt.title('Distribution of Age and its impact on Feedback')\n",
        "plt.xlabel('Age')\n",
        "plt.ylabel('Count')\n",
        "plt.legend(title='Feedback')\n",
        "plt.show()\n",
        "\n",
        "# Proportions of Feedback across different levels of Monthly Income\n",
        "plt.figure(figsize=(10, 6))\n",
        "sns.countplot(data=df, x='Monthly Income', hue='Feedback')\n",
        "plt.title('Proportions of Feedback across Monthly Income')\n",
        "plt.xlabel('Monthly Income')\n",
        "plt.ylabel('Count')\n",
        "plt.legend(title='Feedback')\n",
        "plt.xticks(rotation=45)\n",
        "plt.show()\n",
        "\n",
        "# Correlation matrix heatmap\n",
        "plt.figure(figsize=(12, 8))\n",
        "corr = df.corr()\n",
        "sns.heatmap(corr, annot=True, cmap='coolwarm', fmt=\".2f\", linewidths=0.5)\n",
        "plt.title('Correlation Matrix Heatmap')\n",
        "plt.show()\n"
      ],
      "metadata": {
        "id": "cRaH4s1IjGQH"
      },
      "execution_count": null,
      "outputs": []
    },
    {
      "cell_type": "markdown",
      "source": [
        "# ***Part 3: Logistic Regression Model***"
      ],
      "metadata": {
        "id": "bcruV8DQjNVg"
      }
    },
    {
      "cell_type": "code",
      "source": [
        "X = pd.get_dummies(df.drop(columns=['Feedback']), drop_first=True)\n",
        "y = df['Feedback']\n",
        "X_train, X_test, y_train, y_test = train_test_split(X, y, test_size=0.2, random_state=42)\n",
        "model = LogisticRegression()\n",
        "model.fit(X_train, y_train)\n",
        "y_pred = model.predict(X_test)\n",
        "accuracy = accuracy_score(y_test, y_pred)\n",
        "precision = precision_score(y_test, y_pred, pos_label='Positive')\n",
        "recall = recall_score(y_test, y_pred, pos_label='Positive')\n",
        "conf_matrix = confusion_matrix(y_test, y_pred)\n",
        "print(\"Model Evaluation:\")\n",
        "print(\"Accuracy:\", accuracy)\n",
        "print(\"Precision:\", precision)\n",
        "print(\"Recall:\", recall)\n",
        "print(\"Confusion Matrix:\\n\", conf_matrix)\n"
      ],
      "metadata": {
        "id": "-JOSjbxLjRiX"
      },
      "execution_count": null,
      "outputs": []
    },
    {
      "cell_type": "markdown",
      "source": [
        "# ***Part 4: Data Analysis and Visualization***"
      ],
      "metadata": {
        "id": "ajdHTILr6Br9"
      }
    },
    {
      "cell_type": "markdown",
      "source": [
        "# ***Feature Importance:***"
      ],
      "metadata": {
        "id": "GhNBUp0g6zFs"
      }
    },
    {
      "cell_type": "code",
      "source": [
        "import matplotlib.pyplot as plt\n",
        "import numpy as np\n",
        "\n",
        "# Extracting feature coefficients from the trained model\n",
        "feature_importance = model.coef_[0]\n",
        "\n",
        "# Mapping feature names to their coefficients\n",
        "feature_names = X.columns.tolist()\n",
        "feature_importance_dict = dict(zip(feature_names, feature_importance))\n",
        "\n",
        "# Sorting features based on their importance\n",
        "sorted_features = sorted(feature_importance_dict.items(), key=lambda x: abs(x[1]), reverse=True)\n",
        "\n",
        "# Extracting feature names and coefficients for visualization\n",
        "sorted_feature_names = [feature[0] for feature in sorted_features]\n",
        "sorted_feature_importance = [feature[1] for feature in sorted_features]\n",
        "\n",
        "# Visualizing feature importance\n",
        "plt.figure(figsize=(10, 6))\n",
        "plt.barh(sorted_feature_names, sorted_feature_importance, color='skyblue')\n",
        "plt.xlabel('Coefficient Magnitude')\n",
        "plt.title('Feature Importance in Logistic Regression Model')\n",
        "plt.gca().invert_yaxis()  # Invert y-axis to display most important features on top\n",
        "plt.show()\n",
        "\n",
        "# Discussing feature influence\n",
        "print(\"Feature Importance:\")\n",
        "for feature, importance in sorted_features:\n",
        "    print(f\"{feature}: {importance}\")\n",
        "\n",
        "\n",
        "\n"
      ],
      "metadata": {
        "id": "HDkbIjOM6DuO"
      },
      "execution_count": null,
      "outputs": []
    },
    {
      "cell_type": "markdown",
      "source": [
        "# ***Prediction Insights:***"
      ],
      "metadata": {
        "id": "vhWnyEs365fU"
      }
    },
    {
      "cell_type": "code",
      "source": [
        "import matplotlib.pyplot as plt\n",
        "\n",
        "# Predict probabilities for the test set\n",
        "y_pred_prob = model.predict_proba(X_test)\n",
        "\n",
        "# Extract probabilities for positive feedback class\n",
        "positive_probs = y_pred_prob[:, 1]\n",
        "\n",
        "# Visualize the distribution of predicted probabilities\n",
        "plt.figure(figsize=(10, 6))\n",
        "plt.hist(positive_probs, bins=30, color='skyblue', alpha=0.7)\n",
        "plt.title('Distribution of Predicted Probabilities for Positive Feedback')\n",
        "plt.xlabel('Predicted Probability')\n",
        "plt.ylabel('Frequency')\n",
        "plt.show()\n",
        "\n",
        "# Discussing insights from the visualization\n"
      ],
      "metadata": {
        "colab": {
          "base_uri": "https://localhost:8080/",
          "height": 560
        },
        "id": "qkWeU5YO6u4h",
        "outputId": "e19b868c-5522-4c3a-a967-01c4717eef84"
      },
      "execution_count": null,
      "outputs": [
        {
          "output_type": "display_data",
          "data": {
            "text/plain": [
              "<Figure size 1000x600 with 1 Axes>"
            ],
            "image/png": "[encoded data removed]"
          },
          "metadata": {}
        }
      ]
    }
  ]
}